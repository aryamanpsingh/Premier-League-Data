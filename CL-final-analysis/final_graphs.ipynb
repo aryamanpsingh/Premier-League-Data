{
 "cells": [
  {
   "cell_type": "code",
   "execution_count": 16,
   "metadata": {},
   "outputs": [],
   "source": [
    "import pandas as pd\n",
    "import matplotlib.pyplot as plt\n",
    "import numpy as np\n",
    "import seaborn as sns\n",
    "from bokeh.plotting import figure,output_file,show,ColumnDataSource,show\n",
    "from bokeh.models.tools import HoverTool\n",
    "import bokeh.models as bmo\n",
    "from bokeh.palettes import d3\n",
    "from bokeh.embed import components\n",
    "from matplotlib import pyplot as plt"
   ]
  },
  {
   "cell_type": "code",
   "execution_count": 84,
   "metadata": {},
   "outputs": [],
   "source": [
    "xf = pd.read_csv(\"xf.csv\")"
   ]
  },
  {
   "cell_type": "code",
   "execution_count": 85,
   "metadata": {},
   "outputs": [],
   "source": [
    "attack = pd.read_csv(\"attack.csv\")\n",
    "midfield = pd.read_csv(\"midfield.csv\")\n",
    "defence = pd.read_csv(\"defence.csv\")"
   ]
  },
  {
   "cell_type": "code",
   "execution_count": 92,
   "metadata": {},
   "outputs": [],
   "source": [
    "src_attack = ColumnDataSource(attack)\n",
    "name_list = attack['Name'].tolist()\n",
    "sot_list = attack['SOT'].tolist()\n",
    "#Add figure\n",
    "p_attack_1 = figure (x_range = (0,80), title = 'XG vs SOT', x_axis_label = 'SOT', y_axis_label = 'XG', plot_width = 800)\n",
    "\n",
    "#Configure color mapping\n",
    "palette = d3['Category10'][4]\n",
    "color_map = bmo.CategoricalColorMapper(factors=attack['Team_x'].unique(),\n",
    "                                   palette=palette)\n",
    "#Add hover tools\n",
    "hover_1 = HoverTool()\n",
    "hover_1.tooltips = \"\"\"\n",
    "    <div>\n",
    "        <h4>@Name</h4>\n",
    "        <div>SOT : @{SOT}</div>\n",
    "        <div>xG : @{xG}</div>\n",
    "        <div>@{Team_x}</div>\n",
    "        <div><img src=@Image width=75 /></div>\n",
    "    </div>\n",
    "    \"\"\"\n",
    "p_attack_1.add_tools(hover_1)\n",
    "\n",
    "#Add hbar plot\n",
    "p_attack_1.hex ('SOT','xG', source = src_attack, size=15, color = {'field': 'Team_x', 'transform': color_map}, fill_alpha=0.8, legend='Team')\n",
    "\n",
    "#Add legend\n",
    "p_attack_1.legend.orientation = 'vertical'\n",
    "p_attack_1.legend.label_text_font_size = '10px'\n",
    "\n",
    "output_file('attack-xg-sot.html')"
   ]
  },
  {
   "cell_type": "code",
   "execution_count": 93,
   "metadata": {},
   "outputs": [
    {
     "name": "stderr",
     "output_type": "stream",
     "text": [
      "ERROR:bokeh.core.validation.check:E-1001 (BAD_COLUMN_NAME): Glyph refers to nonexistent column name: Names [renderer: GlyphRenderer(id='e92a7f1e-3bb4-4c5a-939b-732f220d087d', ...)]\n"
     ]
    }
   ],
   "source": [
    "show(p_attack_1)"
   ]
  },
  {
   "cell_type": "code",
   "execution_count": 35,
   "metadata": {},
   "outputs": [
    {
     "data": {
      "text/plain": [
       "Index(['Unnamed: 0', 'Unnamed: 0_x', 'Name', 'Team_x', 'xG', 'xA', 'xG90',\n",
       "       'xA90', 'Unnamed: 0_y', 'index', 'Nationality', 'Apps', 'Starts',\n",
       "       'Subs', 'Minutes', 'Min / app', 'Goals_x', 'Assists_x', 'PK', 'PKAtt',\n",
       "       'Fouls', 'Yellows', 'Reds', 'SOT', 'Goals PG', 'Goals+Asst PG',\n",
       "       'Goals no PK PG', 'Goals+Asst no PK PG', 'SOT PG', 'Fouls PG',\n",
       "       'Cards PG', 'Goals+Assists', 'Height', 'Pass Accuracy', 'Aerials won',\n",
       "       'MOTMs', 'Rating', 'Team_y', 'Position', 'Age', 'Image'],\n",
       "      dtype='object')"
      ]
     },
     "execution_count": 35,
     "metadata": {},
     "output_type": "execute_result"
    }
   ],
   "source": [
    "attack.columns"
   ]
  },
  {
   "cell_type": "code",
   "execution_count": 96,
   "metadata": {},
   "outputs": [],
   "source": [
    "src = ColumnDataSource(xf)\n",
    "name_list = attack['Name'].tolist()\n",
    "sot_list = attack['SOT'].tolist()\n",
    "#Add figure\n",
    "p_1 = figure (title = 'XGpg vs SOT', x_axis_label = 'SOT', y_axis_label = 'XG', plot_width = 1000, plot_height = 800)\n",
    "\n",
    "#Configure color mapping\n",
    "palette = d3['Category10'][4]\n",
    "color_map = bmo.CategoricalColorMapper(factors=xf['Team_x'].unique(),\n",
    "                                   palette=palette)\n",
    "#Add hover tools\n",
    "hover_1 = HoverTool()\n",
    "hover_1.tooltips = \"\"\"\n",
    "    <div>\n",
    "        <h4>@Name</h4>\n",
    "        <div>SOT : @{SOT}</div>\n",
    "        <div>xG : @{xG90}</div>\n",
    "        <div>@{Team_x}</div>\n",
    "        <div><img src=@Image width=75 /></div>\n",
    "    </div>\n",
    "    \"\"\"\n",
    "p_1.add_tools(hover_1)\n",
    "\n",
    "#Add hbar plot\n",
    "p_1.hex ('SOT','xG90', source = src, size=15, color = {'field': 'Team_x', 'transform': color_map}, fill_alpha=0.8, legend='Team')\n",
    "\n",
    "#Add legend\n",
    "p_1.legend.orientation = 'vertical'\n",
    "p_1.legend.label_text_font_size = '10px'\n",
    "p_1.legend.location = 'bottom_right'\n",
    "\n",
    "output_file('xgpg-sot.html')"
   ]
  },
  {
   "cell_type": "code",
   "execution_count": 95,
   "metadata": {},
   "outputs": [
    {
     "name": "stderr",
     "output_type": "stream",
     "text": [
      "ERROR:bokeh.core.validation.check:E-1001 (BAD_COLUMN_NAME): Glyph refers to nonexistent column name: Names [renderer: GlyphRenderer(id='e92a7f1e-3bb4-4c5a-939b-732f220d087d', ...)]\n"
     ]
    }
   ],
   "source": [
    "show(p_1)"
   ]
  },
  {
   "cell_type": "code",
   "execution_count": 103,
   "metadata": {},
   "outputs": [],
   "source": [
    "src_midfield = ColumnDataSource(midfield)\n",
    "name_list = midfield['Name'].tolist()\n",
    "sot_list = attack['SOT'].tolist()\n",
    "#Add figure\n",
    "p_midfield_1 = figure (y_range = name_list, title = 'XA', x_axis_label = 'XA', y_axis_label = 'Players', plot_width = 1000, plot_height = 800)\n",
    "\n",
    "#Configure color mapping\n",
    "palette = d3['Category10'][4]\n",
    "color_map = bmo.CategoricalColorMapper(factors=xf['Team_x'].unique(),\n",
    "                                   palette=palette)\n",
    "#Add hover tools\n",
    "hover_2 = HoverTool()\n",
    "hover_2.tooltips = \"\"\"\n",
    "    <div>\n",
    "        <h4>@Name</h4>\n",
    "        <div>xA : @{xA}</div>\n",
    "        <div>@{Team_x}</div>\n",
    "        <div><img src=@Image width=75 /></div>\n",
    "    </div>\n",
    "    \"\"\"\n",
    "p_midfield_1.add_tools(hover_2)\n",
    "\n",
    "#Add hbar plot\n",
    "p_midfield_1.hbar (y = 'Name', right = 'xA', source = src_midfield, height = 0.8, color = {'field': 'Team_x', 'transform': color_map}, fill_alpha=0.8, legend='Team')\n",
    "\n",
    "#Add legend\n",
    "p_midfield_1.legend.orientation = 'vertical'\n",
    "p_midfield_1.legend.label_text_font_size = '10px'\n",
    "\n",
    "output_file('midfield-xa.html')"
   ]
  },
  {
   "cell_type": "code",
   "execution_count": 104,
   "metadata": {},
   "outputs": [
    {
     "name": "stderr",
     "output_type": "stream",
     "text": [
      "ERROR:bokeh.core.validation.check:E-1001 (BAD_COLUMN_NAME): Glyph refers to nonexistent column name: Names [renderer: GlyphRenderer(id='e92a7f1e-3bb4-4c5a-939b-732f220d087d', ...)]\n"
     ]
    }
   ],
   "source": [
    "show(p_midfield_1)"
   ]
  },
  {
   "cell_type": "code",
   "execution_count": 66,
   "metadata": {},
   "outputs": [],
   "source": [
    "midfield = midfield.sort_values('Team_x')"
   ]
  },
  {
   "cell_type": "code",
   "execution_count": 112,
   "metadata": {},
   "outputs": [],
   "source": [
    "#Add figure\n",
    "p_midfield_2 = figure ( title = 'xApg vs Apps', x_axis_label = 'Apps', y_axis_label = 'xApg', plot_width = 800)\n",
    "\n",
    "#Configure color mapping\n",
    "palette = d3['Category10'][4]\n",
    "color_map = bmo.CategoricalColorMapper(factors=midfield['Team_x'].unique(),\n",
    "                                   palette=palette)\n",
    "#Add hover tools\n",
    "hover_3 = HoverTool()\n",
    "hover_3.tooltips = \"\"\"\n",
    "    <div>\n",
    "        <h4>@Name</h4>\n",
    "        <div>xApg : @{xA90}</div>\n",
    "        <div>Apps : @{Apps}</div>\n",
    "        <div>@{Team_x}</div>\n",
    "        <div><img src=@Image width=75 /></div>\n",
    "    </div>\n",
    "    \"\"\"\n",
    "p_midfield_2.add_tools(hover_3)\n",
    "\n",
    "#Add hbar plot\n",
    "p_midfield_2.hex ('Apps','xA90', source = src_midfield, size=15, color = {'field': 'Team_x', 'transform': color_map}, fill_alpha=0.8, legend='Team')\n",
    "\n",
    "#Add legend\n",
    "p_midfield_2.legend.orientation = 'vertical'\n",
    "p_midfield_2.legend.label_text_font_size = '10px'\n",
    "\n",
    "output_file('midfield-xapg-apps.html')"
   ]
  },
  {
   "cell_type": "code",
   "execution_count": 108,
   "metadata": {},
   "outputs": [
    {
     "name": "stderr",
     "output_type": "stream",
     "text": [
      "ERROR:bokeh.core.validation.check:E-1001 (BAD_COLUMN_NAME): Glyph refers to nonexistent column name: Names [renderer: GlyphRenderer(id='e92a7f1e-3bb4-4c5a-939b-732f220d087d', ...)]\n"
     ]
    }
   ],
   "source": [
    "show(p_midfield_2)"
   ]
  },
  {
   "cell_type": "code",
   "execution_count": 111,
   "metadata": {},
   "outputs": [],
   "source": [
    "#Add figure\n",
    "p_midfield_3 = figure ( title = 'xGpg vs Apps', x_axis_label = 'Apps', y_axis_label = 'xGpg', plot_width = 800)\n",
    "\n",
    "#Configure color mapping\n",
    "palette = d3['Category10'][4]\n",
    "color_map = bmo.CategoricalColorMapper(factors=midfield['Team_x'].unique(),\n",
    "                                   palette=palette)\n",
    "#Add hover tools\n",
    "hover_4 = HoverTool()\n",
    "hover_4.tooltips = \"\"\"\n",
    "    <div>\n",
    "        <h4>@Name</h4>\n",
    "        <div>xGpg : @{xG90}</div>\n",
    "        <div>Apps : @{Apps}</div>\n",
    "        <div>@{Team_x}</div>\n",
    "        <div><img src=@Image width=75 /></div>\n",
    "    </div>\n",
    "    \"\"\"\n",
    "p_midfield_3.add_tools(hover_1)\n",
    "\n",
    "#Add hbar plot\n",
    "p_midfield_3.hex ('Apps','xG90', source = src_midfield, size=15, color = {'field': 'Team_x', 'transform': color_map}, fill_alpha=0.8, legend='Team')\n",
    "\n",
    "#Add legend\n",
    "p_midfield_3.legend.orientation = 'vertical'\n",
    "p_midfield_3.legend.label_text_font_size = '10px'\n",
    "\n",
    "output_file('midfield-xgpg-apps.html')"
   ]
  },
  {
   "cell_type": "code",
   "execution_count": 110,
   "metadata": {},
   "outputs": [
    {
     "name": "stderr",
     "output_type": "stream",
     "text": [
      "ERROR:bokeh.core.validation.check:E-1001 (BAD_COLUMN_NAME): Glyph refers to nonexistent column name: Names [renderer: GlyphRenderer(id='e92a7f1e-3bb4-4c5a-939b-732f220d087d', ...)]\n"
     ]
    }
   ],
   "source": [
    "show(p_midfield_3)"
   ]
  },
  {
   "cell_type": "code",
   "execution_count": 114,
   "metadata": {},
   "outputs": [],
   "source": [
    "\n",
    "#Add figure\n",
    "p_midfield_4 = figure (y_range = name_list, title = 'XG', x_axis_label = 'XG', y_axis_label = 'Players', plot_width = 1000, plot_height = 800)\n",
    "\n",
    "#Configure color mapping\n",
    "palette = d3['Category10'][4]\n",
    "color_map = bmo.CategoricalColorMapper(factors=xf['Team_x'].unique(),\n",
    "                                   palette=palette)\n",
    "#Add hover tools\n",
    "hover_4 = HoverTool()\n",
    "hover_4.tooltips = \"\"\"\n",
    "    <div>\n",
    "        <h4>@Name</h4>\n",
    "        <div>xG : @{xG}</div>\n",
    "        <div>@{Team_x}</div>\n",
    "        <div><img src=@Image width=75 /></div>\n",
    "    </div>\n",
    "    \"\"\"\n",
    "p_midfield_4.add_tools(hover_4)\n",
    "\n",
    "#Add hbar plot\n",
    "p_midfield_4.hbar (y = 'Name', right = 'xG', source = src_midfield, height = 0.8, color = {'field': 'Team_x', 'transform': color_map}, fill_alpha=0.8, legend='Team')\n",
    "\n",
    "#Add legend\n",
    "p_midfield_4.legend.orientation = 'vertical'\n",
    "p_midfield_4.legend.label_text_font_size = '10px'\n",
    "\n",
    "output_file('midfield-xg.html')"
   ]
  },
  {
   "cell_type": "code",
   "execution_count": 115,
   "metadata": {},
   "outputs": [
    {
     "name": "stderr",
     "output_type": "stream",
     "text": [
      "ERROR:bokeh.core.validation.check:E-1001 (BAD_COLUMN_NAME): Glyph refers to nonexistent column name: Names [renderer: GlyphRenderer(id='e92a7f1e-3bb4-4c5a-939b-732f220d087d', ...)]\n"
     ]
    }
   ],
   "source": [
    "show(p_midfield_4)"
   ]
  },
  {
   "cell_type": "code",
   "execution_count": null,
   "metadata": {},
   "outputs": [],
   "source": []
  }
 ],
 "metadata": {
  "kernelspec": {
   "display_name": "Python 3",
   "language": "python",
   "name": "python3"
  },
  "language_info": {
   "codemirror_mode": {
    "name": "ipython",
    "version": 3
   },
   "file_extension": ".py",
   "mimetype": "text/x-python",
   "name": "python",
   "nbconvert_exporter": "python",
   "pygments_lexer": "ipython3",
   "version": "3.6.5"
  }
 },
 "nbformat": 4,
 "nbformat_minor": 2
}
